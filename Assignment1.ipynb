{
 "cells": [
  {
   "cell_type": "markdown",
   "id": "684b16b8-9a49-4036-b973-a72473901da5",
   "metadata": {},
   "source": [
    "Q1. Create one variable containing following type of data:\n",
    "(i) string\n",
    "(ii) list\n",
    "(iii) float\n",
    "(iv) tuple"
   ]
  },
  {
   "cell_type": "code",
   "execution_count": 1,
   "id": "804edb2b-0754-41aa-a66c-25accfda983d",
   "metadata": {},
   "outputs": [],
   "source": [
    "a = \"ayush\""
   ]
  },
  {
   "cell_type": "code",
   "execution_count": 2,
   "id": "baa7411b-dcfd-43ce-a4f9-a5f83fb6a409",
   "metadata": {},
   "outputs": [
    {
     "data": {
      "text/plain": [
       "str"
      ]
     },
     "execution_count": 2,
     "metadata": {},
     "output_type": "execute_result"
    }
   ],
   "source": [
    "type(a)"
   ]
  },
  {
   "cell_type": "code",
   "execution_count": 3,
   "id": "85a2bd18-406d-4597-b2e0-8c7b1cd366f6",
   "metadata": {},
   "outputs": [],
   "source": [
    "b = [1,22,\"laptop\",2+4j,3.32]"
   ]
  },
  {
   "cell_type": "code",
   "execution_count": 4,
   "id": "2a55e9a2-c3c7-4324-8b5d-3a4025821742",
   "metadata": {},
   "outputs": [
    {
     "data": {
      "text/plain": [
       "list"
      ]
     },
     "execution_count": 4,
     "metadata": {},
     "output_type": "execute_result"
    }
   ],
   "source": [
    "type(b)"
   ]
  },
  {
   "cell_type": "code",
   "execution_count": 5,
   "id": "3e2a278d-c326-40e6-a14a-ceec6aa98b3b",
   "metadata": {},
   "outputs": [],
   "source": [
    "c = 3.148"
   ]
  },
  {
   "cell_type": "code",
   "execution_count": 6,
   "id": "2de51e03-2fd1-4ebd-85c1-64dda80a0637",
   "metadata": {},
   "outputs": [
    {
     "data": {
      "text/plain": [
       "float"
      ]
     },
     "execution_count": 6,
     "metadata": {},
     "output_type": "execute_result"
    }
   ],
   "source": [
    "type(c)"
   ]
  },
  {
   "cell_type": "code",
   "execution_count": 9,
   "id": "e1ff1df7-50f3-4376-bbec-68516f8681e7",
   "metadata": {},
   "outputs": [],
   "source": [
    "d = ('ayu')"
   ]
  },
  {
   "cell_type": "code",
   "execution_count": 10,
   "id": "95378b9d-eaca-4e03-913f-d11627d4a81c",
   "metadata": {},
   "outputs": [
    {
     "data": {
      "text/plain": [
       "str"
      ]
     },
     "execution_count": 10,
     "metadata": {},
     "output_type": "execute_result"
    }
   ],
   "source": [
    "type(d)"
   ]
  },
  {
   "cell_type": "code",
   "execution_count": 13,
   "id": "4ed7fcbe-0943-499a-8859-23ada6df5306",
   "metadata": {},
   "outputs": [],
   "source": [
    "e = ('apple','banana','cherry')"
   ]
  },
  {
   "cell_type": "code",
   "execution_count": 14,
   "id": "f505121e-ebcb-4777-8d99-1acccff59100",
   "metadata": {},
   "outputs": [
    {
     "data": {
      "text/plain": [
       "tuple"
      ]
     },
     "execution_count": 14,
     "metadata": {},
     "output_type": "execute_result"
    }
   ],
   "source": [
    "type(e)"
   ]
  },
  {
   "cell_type": "markdown",
   "id": "2f5a9fc8-7930-49b9-b1e4-d51e5f1a8005",
   "metadata": {},
   "source": [
    "Q2. Given are some following variables containing data:\n",
    "(i) var1 = ‘ ‘\n",
    "(ii) var2 = ‘[ DS , ML , Python]’\n",
    "(iii) var3 = [ ‘DS’ , ’ML’ , ‘Python’ ]\n",
    "(iv) var4 = 1.\n",
    "What will be the data type of the above given variable."
   ]
  },
  {
   "cell_type": "code",
   "execution_count": 15,
   "id": "2c08750b-bc6e-4990-bf0b-a45a5b9ee518",
   "metadata": {},
   "outputs": [
    {
     "ename": "SyntaxError",
     "evalue": "invalid character '‘' (U+2018) (4260740913.py, line 1)",
     "output_type": "error",
     "traceback": [
      "\u001b[0;36m  Cell \u001b[0;32mIn[15], line 1\u001b[0;36m\u001b[0m\n\u001b[0;31m    var1 = ‘ ‘\u001b[0m\n\u001b[0m           ^\u001b[0m\n\u001b[0;31mSyntaxError\u001b[0m\u001b[0;31m:\u001b[0m invalid character '‘' (U+2018)\n"
     ]
    }
   ],
   "source": [
    "var1 = ‘ ‘ "
   ]
  },
  {
   "cell_type": "code",
   "execution_count": 16,
   "id": "cd3053ca-adf0-47ba-8330-9d6a32260881",
   "metadata": {},
   "outputs": [
    {
     "ename": "SyntaxError",
     "evalue": "invalid character '‘' (U+2018) (4236947624.py, line 1)",
     "output_type": "error",
     "traceback": [
      "\u001b[0;36m  Cell \u001b[0;32mIn[16], line 1\u001b[0;36m\u001b[0m\n\u001b[0;31m    var2 = ‘[ DS , ML , Python]’\u001b[0m\n\u001b[0m           ^\u001b[0m\n\u001b[0;31mSyntaxError\u001b[0m\u001b[0;31m:\u001b[0m invalid character '‘' (U+2018)\n"
     ]
    }
   ],
   "source": [
    "var2 = ‘[ DS , ML , Python]’"
   ]
  },
  {
   "cell_type": "code",
   "execution_count": 23,
   "id": "e9c3c90d-58b0-455c-a6ee-db06a0ef9fe5",
   "metadata": {},
   "outputs": [
    {
     "ename": "SyntaxError",
     "evalue": "invalid character '‘' (U+2018) (3912615029.py, line 1)",
     "output_type": "error",
     "traceback": [
      "\u001b[0;36m  Cell \u001b[0;32mIn[23], line 1\u001b[0;36m\u001b[0m\n\u001b[0;31m    var3 = [ ‘DS’ , ’ML’ , ‘Python’ ]\u001b[0m\n\u001b[0m             ^\u001b[0m\n\u001b[0;31mSyntaxError\u001b[0m\u001b[0;31m:\u001b[0m invalid character '‘' (U+2018)\n"
     ]
    }
   ],
   "source": [
    " var3 = [ ‘DS’ , ’ML’ , ‘Python’ ]"
   ]
  },
  {
   "cell_type": "raw",
   "id": "c8b31130-c91c-46a2-b5c5-2d2fb790fd2b",
   "metadata": {},
   "source": [
    "var4 = 1."
   ]
  },
  {
   "cell_type": "code",
   "execution_count": 21,
   "id": "dba5f909-4d0d-4416-92fb-580292c77536",
   "metadata": {},
   "outputs": [
    {
     "data": {
      "text/plain": [
       "float"
      ]
     },
     "execution_count": 21,
     "metadata": {},
     "output_type": "execute_result"
    }
   ],
   "source": [
    "type(var4)"
   ]
  },
  {
   "cell_type": "markdown",
   "id": "8d66e893-b034-4376-8831-03f6958d77da",
   "metadata": {},
   "source": [
    "Q3. Explain the use of the following operators using an example:\n",
    "(i) /\n",
    "(ii) %\n",
    "(iii) //\n",
    "(iv) **"
   ]
  },
  {
   "cell_type": "code",
   "execution_count": 27,
   "id": "7ce895f1-708e-4246-9a34-92edf3be66af",
   "metadata": {},
   "outputs": [
    {
     "name": "stdout",
     "output_type": "stream",
     "text": [
      "1.6666666666666667\n"
     ]
    }
   ],
   "source": [
    "# (i):- \"/\" operator is used for division of any two variables. It gives decimal as well as integer values.\n",
    "\n",
    "a = 10\n",
    "b = 6\n",
    "c = 10/6 \n",
    "print(c)"
   ]
  },
  {
   "cell_type": "code",
   "execution_count": 33,
   "id": "f24b3319-c9db-448d-b910-52bd91ace71f",
   "metadata": {},
   "outputs": [
    {
     "name": "stdout",
     "output_type": "stream",
     "text": [
      "4\n"
     ]
    }
   ],
   "source": [
    "# (ii):- \"%\" operator is also called as a modulo operator. It is used to get the remainder after division of any two numbers.\n",
    "\n",
    "a = 10\n",
    "b = 6\n",
    "c = 10%6 \n",
    "print(c)"
   ]
  },
  {
   "cell_type": "markdown",
   "id": "543c6c69-cc1f-48b9-b8b0-24469d07fb45",
   "metadata": {},
   "source": [
    "# (iii):- \"//\" operator is a floor division. It is used division and it gives only integer values.\"\n",
    "\n",
    "a = 10\n",
    "b = 6\n",
    "c = 10//6 \n",
    "print(c)"
   ]
  },
  {
   "cell_type": "code",
   "execution_count": 35,
   "id": "b9646c33-9ef0-4e2e-9123-42e7e0c1d613",
   "metadata": {},
   "outputs": [
    {
     "name": "stdout",
     "output_type": "stream",
     "text": [
      "1000000\n"
     ]
    }
   ],
   "source": [
    "# (iv):- \"**\" operator is used for getting exponential values.\n",
    "\n",
    "a = 10\n",
    "b = 6\n",
    "c = 10**6 \n",
    "print(c)"
   ]
  },
  {
   "cell_type": "markdown",
   "id": "14bb696e-98d5-408a-a89b-f20c5c18e077",
   "metadata": {},
   "source": [
    "Q4. Create a list of length 10 of your choice containing multiple types of data. Using for loop print the\n",
    "element and its data type."
   ]
  },
  {
   "cell_type": "code",
   "execution_count": 39,
   "id": "4be96c09-515e-4021-b149-1ea77922f355",
   "metadata": {},
   "outputs": [
    {
     "name": "stdout",
     "output_type": "stream",
     "text": [
      "<class 'int'>\n",
      "<class 'int'>\n",
      "<class 'str'>\n",
      "<class 'bool'>\n",
      "<class 'complex'>\n",
      "<class 'int'>\n",
      "<class 'str'>\n",
      "<class 'list'>\n",
      "<class 'bool'>\n",
      "<class 'int'>\n"
     ]
    }
   ],
   "source": [
    "i = 10\n",
    "my_list = [1,21,'ayush',True,3+4j,23,'one',[2,3],False,6]\n",
    "for i in my_list:\n",
    "    print(type(i))"
   ]
  },
  {
   "cell_type": "markdown",
   "id": "4cd35fa3-f82c-4c7b-8205-ff4e0f3be9eb",
   "metadata": {},
   "source": [
    "Q5. Using a while loop, verify if the number A is purely divisible by number B and if so then how many\n",
    "times it can be divisible."
   ]
  },
  {
   "cell_type": "code",
   "execution_count": null,
   "id": "3d4b4f4b-645e-4e8d-9034-698f3fc534c3",
   "metadata": {},
   "outputs": [],
   "source": [
    "A = 36\n",
    "B = 4\n",
    "division = 0\n",
    "while A%B == 0:\n",
    "    A = A/B\n",
    "    division += 1\n",
    "if division > 0:\n",
    "    print(f\"A is divisible by B {division} times\")\n",
    "else:\n",
    "    print(\"A is not divisible\")"
   ]
  },
  {
   "cell_type": "markdown",
   "id": "3bcf74bd-9ca0-440e-ab3c-abf4bcade584",
   "metadata": {},
   "source": [
    "Q6. Create a list containing 25 int type data. Using for loop and if-else condition print if the element is\n",
    "divisible by 3 or not."
   ]
  },
  {
   "cell_type": "code",
   "execution_count": 2,
   "id": "9b640e70-a132-4836-bacc-e941b5e681be",
   "metadata": {},
   "outputs": [
    {
     "name": "stdout",
     "output_type": "stream",
     "text": [
      "1 is not divisible\n",
      "21 is divisible  by 3 \n",
      "422 is not divisible\n",
      "34 is not divisible\n",
      "52 is not divisible\n",
      "122 is not divisible\n",
      "123 is divisible  by 3 \n",
      "90 is divisible  by 3 \n",
      "84 is divisible  by 3 \n",
      "789 is divisible  by 3 \n",
      "876 is divisible  by 3 \n",
      "900 is divisible  by 3 \n",
      "312 is divisible  by 3 \n",
      "4123 is not divisible\n",
      "87 is divisible  by 3 \n",
      "913 is not divisible\n",
      "7899 is divisible  by 3 \n",
      "315 is divisible  by 3 \n",
      "30 is divisible  by 3 \n",
      "85 is not divisible\n",
      "67 is not divisible\n",
      "2997 is divisible  by 3 \n",
      "410 is not divisible\n",
      "47 is not divisible\n",
      "33 is divisible  by 3 \n"
     ]
    }
   ],
   "source": [
    "my_list = [1,21,422,34,52,122,123,90,84,789,876,900,312,4123,87,913,7899,315,30,85,67,2997,410,47,33]\n",
    "\n",
    "for element in my_list:\n",
    "    if element%3 == 0:\n",
    "        print(f\"{element} is divisible  by 3 \")\n",
    "    else:\n",
    "        print(f\"{element} is not divisible\")\n",
    "    \n",
    "          "
   ]
  },
  {
   "cell_type": "markdown",
   "id": "f562e012-6104-4a31-89b4-fb4bd9d2e4b5",
   "metadata": {},
   "source": [
    "Q7. What do you understand about mutable and immutable data types? Give examples for both showing\n",
    "this property."
   ]
  },
  {
   "cell_type": "code",
   "execution_count": 7,
   "id": "4557997a-2b81-42d2-bb98-ee9c7be50218",
   "metadata": {},
   "outputs": [],
   "source": [
    "# Mutable means those whose datatypes can be changed whereas immutable means those whose datatypes can not be changes\n",
    "\n",
    "l = [1,42,\"ayush\",45,43,23,66]"
   ]
  },
  {
   "cell_type": "code",
   "execution_count": 8,
   "id": "aea9c182-bf86-438d-b846-85593e755130",
   "metadata": {},
   "outputs": [
    {
     "data": {
      "text/plain": [
       "list"
      ]
     },
     "execution_count": 8,
     "metadata": {},
     "output_type": "execute_result"
    }
   ],
   "source": [
    "type(l)"
   ]
  },
  {
   "cell_type": "code",
   "execution_count": 9,
   "id": "18946ec9-6829-4f7a-993c-6e6bfeaaa0d1",
   "metadata": {},
   "outputs": [
    {
     "data": {
      "text/plain": [
       "[1, 42, 'ayush', 45, 43, 23, 66]"
      ]
     },
     "execution_count": 9,
     "metadata": {},
     "output_type": "execute_result"
    }
   ],
   "source": [
    "l"
   ]
  },
  {
   "cell_type": "code",
   "execution_count": 10,
   "id": "ad3cd35b-781a-4870-9805-7511d924dd28",
   "metadata": {},
   "outputs": [
    {
     "data": {
      "text/plain": [
       "45"
      ]
     },
     "execution_count": 10,
     "metadata": {},
     "output_type": "execute_result"
    }
   ],
   "source": [
    "l[3] "
   ]
  },
  {
   "cell_type": "code",
   "execution_count": 11,
   "id": "a4a0038e-b154-40cd-90b3-927ed354ed43",
   "metadata": {},
   "outputs": [],
   "source": [
    "l[3] = 551"
   ]
  },
  {
   "cell_type": "code",
   "execution_count": 12,
   "id": "032b3b7f-f327-4b03-9705-c796e3070b4e",
   "metadata": {},
   "outputs": [
    {
     "data": {
      "text/plain": [
       "[1, 42, 'ayush', 551, 43, 23, 66]"
      ]
     },
     "execution_count": 12,
     "metadata": {},
     "output_type": "execute_result"
    }
   ],
   "source": [
    "l"
   ]
  },
  {
   "cell_type": "code",
   "execution_count": null,
   "id": "4004c667-618f-4c06-aa3e-98dd81d9ebf3",
   "metadata": {},
   "outputs": [],
   "source": []
  }
 ],
 "metadata": {
  "kernelspec": {
   "display_name": "Python 3 (ipykernel)",
   "language": "python",
   "name": "python3"
  },
  "language_info": {
   "codemirror_mode": {
    "name": "ipython",
    "version": 3
   },
   "file_extension": ".py",
   "mimetype": "text/x-python",
   "name": "python",
   "nbconvert_exporter": "python",
   "pygments_lexer": "ipython3",
   "version": "3.10.8"
  }
 },
 "nbformat": 4,
 "nbformat_minor": 5
}
